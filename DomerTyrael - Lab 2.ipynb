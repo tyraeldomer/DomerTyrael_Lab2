{
 "cells": [
  {
   "cell_type": "markdown",
   "metadata": {},
   "source": [
    "### Number 1A: Rectangle"
   ]
  },
  {
   "cell_type": "code",
   "execution_count": 7,
   "metadata": {},
   "outputs": [
    {
     "name": "stdout",
     "output_type": "stream",
     "text": [
      "Enter width: 5\n",
      "Enter height: 5\n",
      "*****\n",
      "*****\n",
      "*****\n",
      "*****\n",
      "*****\n"
     ]
    }
   ],
   "source": [
    "width = int(input(\"Enter width: \"))\n",
    "height = int(input(\"Enter height: \"))\n",
    "\n",
    "def print_rectangle(width,height): \n",
    "    for i in range(1,height + 1):\n",
    "        for x in range(1,width + 1):\n",
    "            print(\"*\", end=\"\")\n",
    "        print()\n",
    "\n",
    "rectangle_string = print_rectangle(width,height)"
   ]
  },
  {
   "cell_type": "markdown",
   "metadata": {},
   "source": [
    "### Number 1B: Hollow Rectangle"
   ]
  },
  {
   "cell_type": "code",
   "execution_count": 3,
   "metadata": {},
   "outputs": [
    {
     "name": "stdout",
     "output_type": "stream",
     "text": [
      "Enter width: 5\n",
      "Enter height: 10\n",
      "*****\n",
      "*   *\n",
      "*   *\n",
      "*   *\n",
      "*   *\n",
      "*   *\n",
      "*   *\n",
      "*   *\n",
      "*   *\n",
      "*****\n"
     ]
    }
   ],
   "source": [
    "width = int(input(\"Enter width: \"))\n",
    "height = int(input(\"Enter height: \"))\n",
    "\n",
    "def print_hollow_rectangle(width,height):\n",
    "    rows = 0\n",
    "    while(rows < 1):\n",
    "        print(\"*\" * width)\n",
    "        rows = rows + 1\n",
    "        continue\n",
    "    while(rows >= 1 and rows < (height - 1)):\n",
    "        print(\"*\", \" \" * (width - 3), end = \"*\")\n",
    "        print()\n",
    "        rows = rows + 1\n",
    "        continue\n",
    "    while(rows == (height - 1)):\n",
    "        print(\"*\" * width)\n",
    "        break\n",
    "        \n",
    "rectangle_string = print_hollow_rectangle(width,height)"
   ]
  },
  {
   "cell_type": "markdown",
   "metadata": {},
   "source": [
    "### Number 2: Caesar Cipher"
   ]
  },
  {
   "cell_type": "code",
   "execution_count": 14,
   "metadata": {},
   "outputs": [
    {
     "name": "stdout",
     "output_type": "stream",
     "text": [
      "Enter message to encrypt in capital letters: ABC\n",
      "Enter shift number: 2\n",
      "CDE\n"
     ]
    }
   ],
   "source": [
    "cipher = [\"A\",\"B\",\"C\",\"D\",\"E\",\"F\",\"G\",\"H\",\"I\",\"J\",\"K\",\"L\",\"M\",\"N\",\"O\",\"P\",\"Q\",\"R\",\"S\",\"T\",\"U\",\"V\",\"W\",\"X\",\"Y\",\"Z\"]\n",
    "\n",
    "message = input(\"Enter message to encrypt in capital letters: \")\n",
    "shiftnum = int(input(\"Enter shift number: \"))\n",
    "\n",
    "def caesar_encrypt(message,shiftnum):\n",
    "    letter1 = message[0]\n",
    "    letter2 = message[1]\n",
    "    letter3 = message[2]\n",
    "\n",
    "    old_indicator1 = cipher.index(letter1)\n",
    "    old_indicator2 = cipher.index(letter2)\n",
    "    old_indicator3 = cipher.index(letter3)\n",
    "\n",
    "    if (old_indicator1 + shiftnum > 25):\n",
    "        new_indicator1 = old_indicator1 + shiftnum - 26\n",
    "    else:\n",
    "        new_indicator1 = old_indicator1 + shiftnum\n",
    "        \n",
    "    if (old_indicator2 + shiftnum > 25):\n",
    "        new_indicator2 = old_indicator2 + shiftnum - 26\n",
    "    else:\n",
    "        new_indicator2 = old_indicator2 + shiftnum\n",
    "        \n",
    "    if (old_indicator3 + shiftnum > 25):\n",
    "        new_indicator3 = old_indicator3 + shiftnum - 26\n",
    "    else:\n",
    "        new_indicator3 = old_indicator3 + shiftnum\n",
    "\n",
    "    encrypted1 = cipher[new_indicator1]\n",
    "    encrypted2 = cipher[new_indicator2]\n",
    "    encrypted3 = cipher[new_indicator3]\n",
    "\n",
    "    new_message = encrypted1 + encrypted2 + encrypted3\n",
    "    \n",
    "    print(new_message)\n",
    "    \n",
    "encryptedmessage = caesar_encrypt(message,shiftnum)"
   ]
  },
  {
   "cell_type": "markdown",
   "metadata": {},
   "source": [
    "### Number 3: Vigenere Cipher"
   ]
  },
  {
   "cell_type": "code",
   "execution_count": 15,
   "metadata": {},
   "outputs": [
    {
     "name": "stdout",
     "output_type": "stream",
     "text": [
      "Enter message to encrypt in capital letters: ABC\n",
      "Enter keyword in capital letters: KEY\n",
      "KFA\n"
     ]
    }
   ],
   "source": [
    "cipher = [\"A\",\"B\",\"C\",\"D\",\"E\",\"F\",\"G\",\"H\",\"I\",\"J\",\"K\",\"L\",\"M\",\"N\",\"O\",\"P\",\"Q\",\"R\",\"S\",\"T\",\"U\",\"V\",\"W\",\"X\",\"Y\",\"Z\"]\n",
    "\n",
    "message = input(\"Enter message to encrypt in capital letters: \")\n",
    "keyword = input(\"Enter keyword in capital letters: \")\n",
    "\n",
    "def vigenere_encrypt(message,keyword):\n",
    "    letter1 = message[0]\n",
    "    letter2 = message[1]\n",
    "    letter3 = message[2]\n",
    "    \n",
    "    shift1 = keyword[0]\n",
    "    shift2 = keyword[1]\n",
    "    shift3 = keyword[2]\n",
    "    \n",
    "    old_indicator1 = cipher.index(letter1)\n",
    "    old_indicator2 = cipher.index(letter2)\n",
    "    old_indicator3 = cipher.index(letter3)\n",
    "    \n",
    "    shiftnum1 = cipher.index(shift1)\n",
    "    shiftnum2 = cipher.index(shift2)\n",
    "    shiftnum3 = cipher.index(shift3)\n",
    "    \n",
    "    if(old_indicator1 + shiftnum1 > 25):\n",
    "        new_indicator1 = old_indicator1 + shiftnum1 - 26\n",
    "    else:\n",
    "        new_indicator1 = old_indicator1 + shiftnum1\n",
    "        \n",
    "    if(old_indicator2 + shiftnum2 > 25):\n",
    "        new_indicator2 = old_indicator2 + shiftnum2 - 26\n",
    "    else:\n",
    "        new_indicator2 = old_indicator2 + shiftnum2\n",
    "        \n",
    "    if(old_indicator3 + shiftnum3 > 25):\n",
    "        new_indicator3 = old_indicator3 + shiftnum3 - 26\n",
    "    else:\n",
    "        new_indicator3 = old_indicator3 + shiftnum3\n",
    "        \n",
    "    encrypted1 = cipher[new_indicator1]\n",
    "    encrypted2 = cipher[new_indicator2]\n",
    "    encrypted3 = cipher[new_indicator3]\n",
    "    \n",
    "    new_message = encrypted1 + encrypted2 + encrypted3\n",
    "    \n",
    "    print(new_message)\n",
    "    \n",
    "encryptedmessage = vigenere_encrypt(message,keyword)"
   ]
  },
  {
   "cell_type": "markdown",
   "metadata": {},
   "source": [
    "### Number 4: Contact Tracing"
   ]
  },
  {
   "cell_type": "code",
   "execution_count": 55,
   "metadata": {},
   "outputs": [
    {
     "name": "stdout",
     "output_type": "stream",
     "text": [
      "Enter initial infected: A\n",
      "Round 1: GAFJBCDIHE\n",
      "Round 2: JFHGIABECD\n",
      "Round 3:  FCGAEBIJDH\n",
      "The final list of infected is: ['A', 'I', 'E', 'J', 'B', 'G', 'F', 'D']\n"
     ]
    }
   ],
   "source": [
    "import random\n",
    "\n",
    "infected_r1 = []\n",
    "infected_r2 = []\n",
    "infected_r3 = []\n",
    "final_infectedr1 = []\n",
    "final_infectedr2 = []\n",
    "final_infected3 = []\n",
    "movement_listround1 = [\"JFHGIABECD\",\"GAFJBCDIHE\",\"FCGAEBIJDH\"]\n",
    "movement_listround2 = []\n",
    "movement_listround3 = []\n",
    "\n",
    "initial_infected = input(\"Enter initial infected: \")\n",
    "\n",
    "def trace(initial_infected,movement_listround1):\n",
    "    round1 = random.choice(movement_listround1)\n",
    "    indexround1 = movement_listround1.index(round1)\n",
    "    index_infected = round1.index(initial_infected)\n",
    "    index1_round1 = index_infected - 1\n",
    "    index2_round1 = index_infected + 1\n",
    "    \n",
    "    infected1_round1 = round1[index1_round1]\n",
    "    infected2_round2 = round1[index2_round1]\n",
    "    \n",
    "    infected_r1.append(initial_infected)\n",
    "    infected_r1.append(infected1_round1)\n",
    "    infected_r1.append(infected2_round2)\n",
    "    \n",
    "    del movement_listround1[indexround1]\n",
    "    movement_listround2 = movement_listround1\n",
    "    final_infectedr1 = list(dict.fromkeys(infected_r1))\n",
    "    print(\"Round 1:\",round1)\n",
    "    \n",
    "    round2 = random.choice(movement_listround2)\n",
    "    indexround2 = movement_listround2.index(round2)\n",
    "    index_infectedr2 = round2.index(initial_infected)\n",
    "    index1_round2 = index_infectedr2 + 1\n",
    "    index2_round2 = index_infectedr2 - 1\n",
    "    index3_round2 = index1_round1 + 1\n",
    "    index4_round2 = index1_round1 - 1\n",
    "    index5_round2 = index2_round1 + 1\n",
    "    index6_round2 = index2_round1 - 1\n",
    "    \n",
    "    infected2_round2 = round2[index1_round2]\n",
    "    infected3_round2 = round2[index2_round2]\n",
    "    infected4_round2 = round2[index3_round2]\n",
    "    infected5_round2 = round2[index4_round2]\n",
    "    infected6_round2 = round2[index5_round2]\n",
    "    infected7_round2 = round2[index6_round2]\n",
    "    \n",
    "    infected_r2.append(initial_infected)\n",
    "    infected_r2.append(infected2_round2)\n",
    "    infected_r2.append(infected3_round2)\n",
    "    infected_r2.append(infected4_round2)\n",
    "    infected_r2.append(infected5_round2)\n",
    "    infected_r2.append(infected6_round2)\n",
    "    infected_r2.append(infected7_round2)\n",
    "    \n",
    "    del movement_listround1[indexround2]\n",
    "    movement_listround3 = movement_listround1\n",
    "    final_infectedr2 = list(dict.fromkeys(infected_r2))\n",
    "    print(\"Round 2:\",round2)\n",
    "    \n",
    "    round3 = random.choice(movement_listround3)\n",
    "    index_infectedr3 = round3.index(initial_infected)\n",
    "    \n",
    "    index1_round3 = index_infectedr2 + 1\n",
    "    index2_round3 = index_infectedr2 - 1\n",
    "    index3_round3 = index1_round2 + 1\n",
    "    index4_round3 = index1_round2 - 1\n",
    "    index5_round3 = index2_round2 + 1\n",
    "    index6_round3 = index2_round2 - 1\n",
    "    index7_round3 = index3_round2 + 1\n",
    "    index8_round3 = index3_round2 - 1\n",
    "    index9_round3 = index4_round2 + 1\n",
    "    index10_round3 = index4_round2 - 1\n",
    "    index11_round3 = index5_round2 + 1\n",
    "    index11_round3 = index5_round2 - 1\n",
    "    index12_round3 = index6_round2 + 1\n",
    "    index12_round3 = index6_round2 - 1\n",
    "    \n",
    "    infected2_r3 = round3[index1_round3]\n",
    "    infected3_r3 = round3[index2_round3]\n",
    "    infected4_r3 = round3[index3_round3]\n",
    "    infected5_r3 = round3[index4_round3]\n",
    "    infected6_r3 = round3[index5_round3]\n",
    "    infected7_r3 = round3[index6_round3]\n",
    "    infected8_r3 = round3[index7_round3]\n",
    "    infected9_r3 = round3[index8_round3]\n",
    "    infected10_r3 = round3[index9_round3]\n",
    "    infected11_r3 = round3[index10_round3]\n",
    "    infected12_r3 = round3[index11_round3]\n",
    "    infected13_r3 = round3[index12_round3]\n",
    " \n",
    "    infected_r3.append(initial_infected)\n",
    "    infected_r3.append(infected2_r3)\n",
    "    infected_r3.append(infected3_r3)\n",
    "    infected_r3.append(infected4_r3)\n",
    "    infected_r3.append(infected5_r3)\n",
    "    infected_r3.append(infected6_r3)\n",
    "    infected_r3.append(infected7_r3)\n",
    "    infected_r3.append(infected8_r3)\n",
    "    infected_r3.append(infected9_r3)\n",
    "    infected_r3.append(infected10_r3)\n",
    "    infected_r3.append(infected11_r3)\n",
    "    infected_r3.append(infected12_r3)\n",
    "    infected_r3.append(infected13_r3)\n",
    "    \n",
    "    print(\"Round 3: \",round3)\n",
    "    final_infectedr3 = list(dict.fromkeys(infected_r3))\n",
    "    print(\"The final list of infected is:\",final_infectedr3)\n",
    "    \n",
    "\n",
    "final_infected = trace(initial_infected,movement_listround1)"
   ]
  },
  {
   "cell_type": "code",
   "execution_count": null,
   "metadata": {},
   "outputs": [],
   "source": []
  },
  {
   "cell_type": "code",
   "execution_count": null,
   "metadata": {},
   "outputs": [],
   "source": []
  }
 ],
 "metadata": {
  "kernelspec": {
   "display_name": "Python 3",
   "language": "python",
   "name": "python3"
  },
  "language_info": {
   "codemirror_mode": {
    "name": "ipython",
    "version": 3
   },
   "file_extension": ".py",
   "mimetype": "text/x-python",
   "name": "python",
   "nbconvert_exporter": "python",
   "pygments_lexer": "ipython3",
   "version": "3.7.6"
  }
 },
 "nbformat": 4,
 "nbformat_minor": 4
}
